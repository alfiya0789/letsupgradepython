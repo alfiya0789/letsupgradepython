{
  "nbformat": 4,
  "nbformat_minor": 0,
  "metadata": {
    "colab": {
      "name": "Day6 assignment.ipynb",
      "provenance": [],
      "collapsed_sections": [],
      "authorship_tag": "ABX9TyPe6jbf28D8MwdcD5/Hd/BQ",
      "include_colab_link": true
    },
    "kernelspec": {
      "name": "python3",
      "display_name": "Python 3"
    }
  },
  "cells": [
    {
      "cell_type": "markdown",
      "metadata": {
        "id": "view-in-github",
        "colab_type": "text"
      },
      "source": [
        "<a href=\"https://colab.research.google.com/github/alfiya0789/letsupgradepython/blob/master/Day6_assignment.ipynb\" target=\"_parent\"><img src=\"https://colab.research.google.com/assets/colab-badge.svg\" alt=\"Open In Colab\"/></a>"
      ]
    },
    {
      "cell_type": "markdown",
      "metadata": {
        "id": "HYTlC7KIivQM",
        "colab_type": "text"
      },
      "source": [
        " Assignment day 8"
      ]
    },
    {
      "cell_type": "markdown",
      "metadata": {
        "id": "rB6bQBnvi_v0",
        "colab_type": "text"
      },
      "source": [
        "Q1"
      ]
    },
    {
      "cell_type": "code",
      "metadata": {
        "id": "YepIQJPqi9Md",
        "colab_type": "code",
        "colab": {}
      },
      "source": [
        " class Bank_Account: \n",
        " \n",
        "    def __init__(self): \n",
        " \n",
        "        self.balance=0\n",
        " \n",
        "        print(\"Hello!!! Welcome to the Deposit & Withdrawal Machine\") \n",
        " \n",
        "  \n",
        " \n",
        "    def deposit(self): \n",
        " \n",
        "        amount=float(input(\"Enter amount to be Deposited: \")) \n",
        " \n",
        "        self.balance += amount \n",
        " \n",
        "        print(\"\\n Amount Deposited:\",amount) \n",
        " \n",
        "  \n",
        " \n",
        "    def withdraw(self): \n",
        " \n",
        "        amount = float(input(\"Enter amount to be Withdrawn: \")) \n",
        " \n",
        "        if self.balance>=amount: \n",
        " \n",
        "            self.balance-=amount \n",
        " \n",
        "            print(\"\\n You Withdrew:\", amount) \n",
        " \n",
        "        else: \n",
        " \n",
        "            print(\"\\n Insufficient balance  \") \n",
        " \n",
        "  \n",
        " \n",
        "    def display(self): \n",
        " \n",
        "        print(\"\\n Net Available Balance=\",self.balance)"
      ],
      "execution_count": null,
      "outputs": []
    },
    {
      "cell_type": "code",
      "metadata": {
        "id": "I6kOHsaOjWcg",
        "colab_type": "code",
        "colab": {
          "base_uri": "https://localhost:8080/",
          "height": 54
        },
        "outputId": "30ff1366-94a7-4450-cb49-6b3504015c23"
      },
      "source": [
        " m=Bank_Account()"
      ],
      "execution_count": null,
      "outputs": [
        {
          "output_type": "stream",
          "text": [
            "Hello!!! Welcome to the Deposit & Withdrawal Machine\n"
          ],
          "name": "stdout"
        }
      ]
    },
    {
      "cell_type": "code",
      "metadata": {
        "id": "CJySOkCNjtGD",
        "colab_type": "code",
        "colab": {
          "base_uri": "https://localhost:8080/",
          "height": 204
        },
        "outputId": "a616e1ea-01ff-452e-8541-9d4eb1ce25e8"
      },
      "source": [
        " m.deposit() \n",
        "m.withdraw() \n",
        "m.display()"
      ],
      "execution_count": null,
      "outputs": [
        {
          "output_type": "stream",
          "text": [
            "Enter amount to be Deposited: 45000 \n",
            "\n",
            " Amount Deposited: 45000.0\n",
            "Enter amount to be Withdrawn: 4000\n",
            "\n",
            " You Withdrew: 4000.0\n",
            "\n",
            " Net Available Balance= 41000.0\n"
          ],
          "name": "stdout"
        }
      ]
    },
    {
      "cell_type": "markdown",
      "metadata": {
        "id": "nQJYfZ0SkdVD",
        "colab_type": "text"
      },
      "source": [
        "Q2"
      ]
    },
    {
      "cell_type": "code",
      "metadata": {
        "id": "VSl2leaYkg32",
        "colab_type": "code",
        "colab": {
          "base_uri": "https://localhost:8080/",
          "height": 51
        },
        "outputId": "82e3cd1a-97f6-4ec6-e2bb-61ead2991a5b"
      },
      "source": [
        " import math\n",
        "class cone():\n",
        "    def __init__(self, r, h):\n",
        "        self.radius = r\n",
        "        self.height= h\n",
        "         \n",
        "    def area(self):\n",
        "        return 3.14*self.radius*(self.radius+math.sqrt(self.height*self.height +self.radius*self.radius))\n",
        "    \n",
        "    def volume(self):\n",
        "        return (1/3)* 3.14 *self.radius *self.radius * self.height\n",
        " \n",
        "Newcone = cone(2,3)\n",
        "print(Newcone.area())\n",
        "print(Newcone.volume())"
      ],
      "execution_count": null,
      "outputs": [
        {
          "output_type": "stream",
          "text": [
            "35.20286200991386\n",
            "12.559999999999999\n"
          ],
          "name": "stdout"
        }
      ]
    }
  ]
}