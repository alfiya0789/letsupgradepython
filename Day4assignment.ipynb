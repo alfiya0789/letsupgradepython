{
  "nbformat": 4,
  "nbformat_minor": 0,
  "metadata": {
    "colab": {
      "name": "Day4assignment.ipynb",
      "provenance": [],
      "collapsed_sections": [],
      "authorship_tag": "ABX9TyP6rV3pXZsXFMJ39yWCFG3i",
      "include_colab_link": true
    },
    "kernelspec": {
      "name": "python3",
      "display_name": "Python 3"
    }
  },
  "cells": [
    {
      "cell_type": "markdown",
      "metadata": {
        "id": "view-in-github",
        "colab_type": "text"
      },
      "source": [
        "<a href=\"https://colab.research.google.com/github/alfiya0789/letsupgradepython/blob/master/Day4assignment.ipynb\" target=\"_parent\"><img src=\"https://colab.research.google.com/assets/colab-badge.svg\" alt=\"Open In Colab\"/></a>"
      ]
    },
    {
      "cell_type": "markdown",
      "metadata": {
        "id": "miP7nJe6M6RV",
        "colab_type": "text"
      },
      "source": [
        "Q Print the first Armstrong number in the range of 1042000 to 702648265 and exit the loop as soon you encounter the first Armstrong number"
      ]
    },
    {
      "cell_type": "code",
      "metadata": {
        "id": "OKJYRh9HNeXX",
        "colab_type": "code",
        "colab": {
          "base_uri": "https://localhost:8080/",
          "height": 34
        },
        "outputId": "39957912-c46f-4d32-c24d-0c7a173c1801"
      },
      "source": [
        "upper = 702648265\n",
        "lowers=1042000\n",
        "for num in range (lowers , upper + 1):\n",
        "    o= len (str(num))\n",
        "    sum = 0\n",
        "    temp = num\n",
        "    while temp > 0:\n",
        "        x = temp % 10\n",
        "        sum += x ** o\n",
        "        temp //= 10\n",
        " \n",
        "    if num == sum:\n",
        "        print(num)\n",
        "        break"
      ],
      "execution_count": null,
      "outputs": [
        {
          "output_type": "stream",
          "text": [
            "1741725\n"
          ],
          "name": "stdout"
        }
      ]
    }
  ]
}