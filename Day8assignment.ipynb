{
  "nbformat": 4,
  "nbformat_minor": 0,
  "metadata": {
    "colab": {
      "name": "Day8assignment.ipynb ",
      "provenance": [],
      "collapsed_sections": [],
      "authorship_tag": "ABX9TyNYRnFJ0/p2QsDSJst1mf5d",
      "include_colab_link": true
    },
    "kernelspec": {
      "name": "python3",
      "display_name": "Python 3"
    }
  },
  "cells": [
    {
      "cell_type": "markdown",
      "metadata": {
        "id": "view-in-github",
        "colab_type": "text"
      },
      "source": [
        "<a href=\"https://colab.research.google.com/github/alfiya0789/letsupgradepython/blob/master/Day8assignment.ipynb\" target=\"_parent\"><img src=\"https://colab.research.google.com/assets/colab-badge.svg\" alt=\"Open In Colab\"/></a>"
      ]
    },
    {
      "cell_type": "markdown",
      "metadata": {
        "id": "zSXnPU0IF9lj",
        "colab_type": "text"
      },
      "source": [
        " Assignment Day6"
      ]
    },
    {
      "cell_type": "markdown",
      "metadata": {
        "id": "Ru2kl0exGVA_",
        "colab_type": "text"
      },
      "source": [
        "Q1"
      ]
    },
    {
      "cell_type": "code",
      "metadata": {
        "id": "gI76LzEnF-ZC",
        "colab_type": "code",
        "colab": {}
      },
      "source": [
        "def recur_cache(func):\n",
        "    cache = {}\n",
        "    def wrapper(arg):\n",
        "        if arg not in cache:\n",
        "            cache[arg] = func(arg)\n",
        "        return cache[arg]\n",
        "    return wrapper\n",
        " \n",
        " \n",
        "@recur_cache\n",
        "def fib(N):\n",
        "    \n",
        "    if N < 0 or N == None : \n",
        "           return None\n",
        "    if N < 2: \n",
        "           return N\n",
        "    else:\n",
        "        return fib(N-1) + fib(N-2)"
      ],
      "execution_count": null,
      "outputs": []
    },
    {
      "cell_type": "code",
      "metadata": {
        "id": "_rQaRDGrIQxT",
        "colab_type": "code",
        "colab": {
          "base_uri": "https://localhost:8080/",
          "height": 34
        },
        "outputId": "7a01dc8c-0fac-4440-a8a7-ef286f4e42bb"
      },
      "source": [
        " fib(3)"
      ],
      "execution_count": null,
      "outputs": [
        {
          "output_type": "execute_result",
          "data": {
            "text/plain": [
              "2"
            ]
          },
          "metadata": {
            "tags": []
          },
          "execution_count": 6
        }
      ]
    },
    {
      "cell_type": "code",
      "metadata": {
        "id": "MziOSbfaIZJo",
        "colab_type": "code",
        "colab": {}
      },
      "source": [
        " file=open(\"alfiya.txt\",\"w\") \n",
        "file.write(\"Hi, i am alfiya learning python\") \n",
        "file.close()"
      ],
      "execution_count": null,
      "outputs": []
    },
    {
      "cell_type": "code",
      "metadata": {
        "id": "yOKO3EalIvic",
        "colab_type": "code",
        "colab": {
          "base_uri": "https://localhost:8080/",
          "height": 34
        },
        "outputId": "619fb869-879a-4767-ed0f-c2e1bbe571a5"
      },
      "source": [
        " file = open(\"alfiya.txt\",\"r\")\n",
        "fileData = file.read()\n",
        "print(fileData)\n",
        "file.close()"
      ],
      "execution_count": null,
      "outputs": [
        {
          "output_type": "stream",
          "text": [
            "Hi, i am alfiya learning python\n"
          ],
          "name": "stdout"
        }
      ]
    },
    {
      "cell_type": "code",
      "metadata": {
        "id": "ox_-zVILI1xw",
        "colab_type": "code",
        "colab": {
          "base_uri": "https://localhost:8080/",
          "height": 34
        },
        "outputId": "14359e24-bca1-4ca0-b056-92a5fec3f2cf"
      },
      "source": [
        " try :\n",
        "    file = open(\"alfiya.txt\",\"r\")\n",
        "    file.write(\"HI\")\n",
        "    file.close()\n",
        "except Exception as e:\n",
        "    print(e)"
      ],
      "execution_count": null,
      "outputs": [
        {
          "output_type": "stream",
          "text": [
            "not writable\n"
          ],
          "name": "stdout"
        }
      ]
    }
  ]
}