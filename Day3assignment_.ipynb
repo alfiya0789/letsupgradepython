{
  "nbformat": 4,
  "nbformat_minor": 0,
  "metadata": {
    "colab": {
      "name": "Day3assignment .ipynb",
      "provenance": [],
      "collapsed_sections": [],
      "authorship_tag": "ABX9TyNPeXHdg5sisJtJ6OhwHgnk",
      "include_colab_link": true
    },
    "kernelspec": {
      "name": "python3",
      "display_name": "Python 3"
    }
  },
  "cells": [
    {
      "cell_type": "markdown",
      "metadata": {
        "id": "view-in-github",
        "colab_type": "text"
      },
      "source": [
        "<a href=\"https://colab.research.google.com/github/alfiya0789/letsupgradepython/blob/master/Day3assignment_.ipynb\" target=\"_parent\"><img src=\"https://colab.research.google.com/assets/colab-badge.svg\" alt=\"Open In Colab\"/></a>"
      ]
    },
    {
      "cell_type": "markdown",
      "metadata": {
        "id": "BNU650--78zW",
        "colab_type": "text"
      },
      "source": [
        "Assignment 1 day 3"
      ]
    },
    {
      "cell_type": "markdown",
      "metadata": {
        "id": "ka1uurBw8Cil",
        "colab_type": "text"
      },
      "source": [
        "Q.You all are pilots, you want to land a plane safely,so WAP to take current aaltitude as input and check weather thealtitude is less than 1000 ft to land the plane, Or more than 1000 ft, and ifit's less than 5000 ft ask pilot to  bring it further down to 1000 ft and if it is more than 5000 ft ask pilot to turn around and attend later."
      ]
    },
    {
      "cell_type": "code",
      "metadata": {
        "id": "3UB2Y5YX8coL",
        "colab_type": "code",
        "colab": {
          "base_uri": "https://localhost:8080/",
          "height": 53
        },
        "outputId": "252382ab-8ae6-426e-aef0-9793c5dd7caf"
      },
      "source": [
        " \n",
        "num = input(\"Enter altitude - \")\n",
        "num = int(num)\n",
        "if num<=1000:\n",
        "   print(\"Safe to Land\")  \n",
        "elif 5000>num>1000:\n",
        "   print(\"Bring to 1000\")\n",
        "else:\n",
        "   print(\"Turn around and try later\")"
      ],
      "execution_count": null,
      "outputs": [
        {
          "output_type": "stream",
          "text": [
            "Enter altitude - 1500\n",
            "Bring to 1000\n"
          ],
          "name": "stdout"
        }
      ]
    },
    {
      "cell_type": "markdown",
      "metadata": {
        "id": "Ion2REh997jw",
        "colab_type": "text"
      },
      "source": [
        "Assignment 2 Day 3"
      ]
    },
    {
      "cell_type": "markdown",
      "metadata": {
        "id": "f3jrzurH-u_Q",
        "colab_type": "text"
      },
      "source": [
        "Q.Using for loop and range function print all prime numbers between 1-200"
      ]
    },
    {
      "cell_type": "code",
      "metadata": {
        "id": "Fb5KXqEq_0t4",
        "colab_type": "code",
        "colab": {
          "base_uri": "https://localhost:8080/",
          "height": 856
        },
        "outputId": "7c4348b3-1d15-488a-df9d-c341cfbadd7a"
      },
      "source": [
        "lower = 1\n",
        "upper = 200\n",
        " \n",
        "print(\"Prime numbers between\", lower, \"and\", upper, \"are:\")\n",
        " \n",
        "for num in range(lower, upper + 1):\n",
        "  \n",
        "   if num > 1:\n",
        "       for i in range(2, num):\n",
        "           if (num % i) == 0:\n",
        "               break\n",
        "       else:\n",
        "           print(num)"
      ],
      "execution_count": null,
      "outputs": [
        {
          "output_type": "stream",
          "text": [
            "Prime numbers between 1 and 200 are:\n",
            "2\n",
            "3\n",
            "5\n",
            "7\n",
            "11\n",
            "13\n",
            "17\n",
            "19\n",
            "23\n",
            "29\n",
            "31\n",
            "37\n",
            "41\n",
            "43\n",
            "47\n",
            "53\n",
            "59\n",
            "61\n",
            "67\n",
            "71\n",
            "73\n",
            "79\n",
            "83\n",
            "89\n",
            "97\n",
            "101\n",
            "103\n",
            "107\n",
            "109\n",
            "113\n",
            "127\n",
            "131\n",
            "137\n",
            "139\n",
            "149\n",
            "151\n",
            "157\n",
            "163\n",
            "167\n",
            "173\n",
            "179\n",
            "181\n",
            "191\n",
            "193\n",
            "197\n",
            "199\n"
          ],
          "name": "stdout"
        }
      ]
    }
  ]
}